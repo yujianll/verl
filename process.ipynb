{
 "cells": [
  {
   "cell_type": "code",
   "execution_count": 3,
   "metadata": {},
   "outputs": [],
   "source": [
    "import os\n",
    "import json\n",
    "import datasets\n",
    "from transformers import AutoTokenizer\n",
    "\n",
    "# tokenizer = AutoTokenizer.from_pretrained(\"meta-llama/Llama-3.1-8B-Instruct\")\n",
    "tokenizer = AutoTokenizer.from_pretrained(\"Qwen/Qwen2.5-Math-1.5B\")"
   ]
  },
  {
   "cell_type": "code",
   "execution_count": 22,
   "metadata": {},
   "outputs": [
    {
     "data": {
      "text/plain": [
       "{'problem': 'Let \\\\[f(x) = \\\\left\\\\{\\n\\\\begin{array}{cl} ax+3, &\\\\text{ if }x>2, \\\\\\\\\\nx-5 &\\\\text{ if } -2 \\\\le x \\\\le 2, \\\\\\\\\\n2x-b &\\\\text{ if } x <-2.\\n\\\\end{array}\\n\\\\right.\\\\]Find $a+b$ if the piecewise function is continuous (which means that its graph can be drawn without lifting your pencil from the paper).',\n",
       " 'level': 'Level 5',\n",
       " 'type': 'Algebra',\n",
       " 'solution': 'For the piecewise function to be continuous, the cases must \"meet\" at $2$ and $-2$. For example, $ax+3$ and $x-5$ must be equal when $x=2$. This implies $a(2)+3=2-5$, which we solve to get $2a=-6 \\\\Rightarrow a=-3$. Similarly, $x-5$ and $2x-b$ must be equal when $x=-2$. Substituting, we get $-2-5=2(-2)-b$, which implies $b=3$. So $a+b=-3+3=\\\\boxed{0}$.'}"
      ]
     },
     "execution_count": 22,
     "metadata": {},
     "output_type": "execute_result"
    }
   ],
   "source": [
    "ds = datasets.load_dataset(\"hendrycks/competition_math\")\n",
    "ds['train'][0]"
   ]
  },
  {
   "cell_type": "code",
   "execution_count": 10,
   "metadata": {},
   "outputs": [
    {
     "data": {
      "text/plain": [
       "Dataset({\n",
       "    features: ['problem', 'level', 'type', 'solution'],\n",
       "    num_rows: 5586\n",
       "})"
      ]
     },
     "execution_count": 10,
     "metadata": {},
     "output_type": "execute_result"
    }
   ],
   "source": [
    "ds['train'].filter(lambda x: any(i in x['level'] for i in ['3', '4', '5']))"
   ]
  },
  {
   "cell_type": "code",
   "execution_count": 4,
   "metadata": {},
   "outputs": [],
   "source": [
    "math500 = datasets.load_dataset(\"HuggingFaceH4/MATH-500\")['test']\n",
    "math500_qs = set(math500['problem'])"
   ]
  },
  {
   "cell_type": "code",
   "execution_count": 7,
   "metadata": {},
   "outputs": [
    {
     "name": "stderr",
     "output_type": "stream",
     "text": [
      "Filter: 100%|██████████| 500/500 [00:00<00:00, 25792.37 examples/s]\n"
     ]
    },
    {
     "data": {
      "text/plain": [
       "Dataset({\n",
       "    features: ['problem', 'solution', 'answer', 'subject', 'level', 'unique_id'],\n",
       "    num_rows: 134\n",
       "})"
      ]
     },
     "execution_count": 7,
     "metadata": {},
     "output_type": "execute_result"
    }
   ],
   "source": [
    "tmp = math500.filter(lambda x: x['level'] == 5)\n",
    "tmp"
   ]
  },
  {
   "cell_type": "code",
   "execution_count": 9,
   "metadata": {},
   "outputs": [
    {
     "data": {
      "text/plain": [
       "{'problem': 'The proper divisors of 12 are 1, 2, 3, 4 and 6. A proper divisor of an integer $N$ is a positive divisor of $N$ that is less than $N$. What is the sum of the proper divisors of the sum of the proper divisors of 284?',\n",
       " 'solution': 'Prime factorize $284=2^2\\\\cdot71$. The sum of the proper divisors of $284$ is\\n\\\\begin{align*}\\n1+2+2^2+71+2 \\\\cdot 71 &= (1+2+2^2)(1+71)-284 \\\\\\\\\\n&= 220 \\\\\\\\\\n&= 2^2\\\\cdot5\\\\cdot11.\\n\\\\end{align*}Here we have used the observation that multiplying out $(1+2+2^2)(1+71)$ by distributing yields an expression which is the sum of all $6$ factors of $284.$ Applying this observation again, we find that the sum of the proper divisors of $220$ is $$(1+2+2^2)(1+5)(1+11)-220=7\\\\cdot 6\\\\cdot 12-220=\\\\boxed{284}.$$',\n",
       " 'answer': '284',\n",
       " 'subject': 'Number Theory',\n",
       " 'level': 5,\n",
       " 'unique_id': 'test/number_theory/737.json'}"
      ]
     },
     "execution_count": 9,
     "metadata": {},
     "output_type": "execute_result"
    }
   ],
   "source": [
    "tmp[3]"
   ]
  },
  {
   "cell_type": "code",
   "execution_count": 24,
   "metadata": {},
   "outputs": [
    {
     "name": "stderr",
     "output_type": "stream",
     "text": [
      "Filter: 100%|██████████| 5000/5000 [00:00<00:00, 105005.66 examples/s]"
     ]
    },
    {
     "name": "stdout",
     "output_type": "stream",
     "text": [
      "4500\n"
     ]
    },
    {
     "name": "stderr",
     "output_type": "stream",
     "text": [
      "\n"
     ]
    }
   ],
   "source": [
    "tmp = ds['test'].filter(lambda x: x['problem'] not in math500_qs)\n",
    "print(len(tmp))\n",
    "tmp = tmp.shuffle(seed=42)\n",
    "train2 = tmp.select(range(4000))\n",
    "val = tmp.select(range(4000, 4500))"
   ]
  },
  {
   "cell_type": "code",
   "execution_count": 25,
   "metadata": {},
   "outputs": [
    {
     "data": {
      "text/plain": [
       "DatasetDict({\n",
       "    train: Dataset({\n",
       "        features: ['problem', 'level', 'type', 'solution'],\n",
       "        num_rows: 11500\n",
       "    })\n",
       "    test: Dataset({\n",
       "        features: ['problem', 'level', 'type', 'solution'],\n",
       "        num_rows: 500\n",
       "    })\n",
       "})"
      ]
     },
     "execution_count": 25,
     "metadata": {},
     "output_type": "execute_result"
    }
   ],
   "source": [
    "train = datasets.concatenate_datasets([ds['train'], train2])\n",
    "data = datasets.DatasetDict()\n",
    "data['train'] = train\n",
    "data['test'] = val\n",
    "data"
   ]
  },
  {
   "cell_type": "code",
   "execution_count": 26,
   "metadata": {},
   "outputs": [
    {
     "name": "stderr",
     "output_type": "stream",
     "text": [
      "Saving the dataset (1/1 shards): 100%|██████████| 11500/11500 [00:00<00:00, 102127.25 examples/s]\n",
      "Saving the dataset (1/1 shards): 100%|██████████| 500/500 [00:00<00:00, 52838.30 examples/s]\n"
     ]
    }
   ],
   "source": [
    "data.save_to_disk('/dccstor/rag_data/math_data')"
   ]
  },
  {
   "cell_type": "code",
   "execution_count": 24,
   "metadata": {},
   "outputs": [],
   "source": [
    "res = json.load(open('1.5B_1.json'))"
   ]
  },
  {
   "cell_type": "code",
   "execution_count": 26,
   "metadata": {},
   "outputs": [
    {
     "name": "stdout",
     "output_type": "stream",
     "text": [
      "<think>\n",
      "Okay, so I need to figure out how many zeros are at the end of 42!. Hmm, I remember that the number of zeros at the end of a factorial is related to how many times the number 10 is a factor in that factorial. Since 10 is 2 multiplied by 5, the number of zeros is determined by the number of pairs of 2s and 5s in the prime factorization of 42!.\n",
      "\n",
      "But wait, I also recall that in factorial prime factorizations, there are usually more 2s than 5s. So, the number of zeros is actually determined by the number of times 5 is a factor in the numbers from 1 to 42. That means I need to count how many multiples of 5 are there in that range, and also account for higher powers like 25, 125, etc., because they contribute more than one 5.\n",
      "\n",
      "Let me start by listing out the multiples of 5 between 1 and 42. So, 5, 10, 15, 20, 25, 30, 35, and 40. That seems like eight numbers. Each of these contributes at least one 5. So, that's 8 fives.\n",
      "\n",
      "But some numbers contribute more than one 5. For example, 25 is 5 squared, so it contributes two 5s. Similarly, 50 is 5 squared times 2, but 50 isn't in 42!, so I don't have to worry about that. In this case, only 25 contributes two 5s. So, that's an extra 2 fives.\n",
      "\n",
      "So, adding that, 8 plus 1 (for the extra 5 in 25) equals 9 fives in total.\n",
      "\n",
      "Wait, but I remember that 42! is 1 to 42, so there's no number higher than 25 in this range that is a multiple of 25, because 25*2 is 50, which is beyond 42. So, I don't need to consider any higher powers like 125, since 125 is way larger than 42. Therefore, I only need to count the multiples of 5 and 25 in that range.\n",
      "\n",
      "So, in total, I have 8 fives from the single multiples and 1 five from 25, making 9 fives.\n",
      "\n",
      "But hold on, maybe I should also check if I've considered all the necessary 5s. Let me think.\n",
      "\n",
      "Every multiple of 5 contributes at least one 5, and every multiple of 25 contributes an additional 5 because 25 is 5 squared.\n",
      "\n",
      "So, for example, 25 is 5^2, which contributes two 5s. Similarly, 50 is 5^2 * 2, but as I said earlier, 50 isn't in 42!.\n",
      "\n",
      "Therefore, in 42!, the number of 5s is equal to the number of multiples of 5 plus the number of multiples of 25. So, the count of multiples of 5 is floor division of 42 by 5, which is 8, because 5*8 is 40, and the next multiple would be 45, which is beyond 42.\n",
      "\n",
      "Then, the number of multiples of 25 is floor division of 42 by 25, which is 1, since 25*1 is 25, and 25*2 is 50, which is beyond 42.\n",
      "\n",
      "Therefore, the total number of 5s is 8 + 1 = 9.\n",
      "\n",
      "Similarly, the number of 2s would be more, but since 10 is 2*5, the number of 10s would be equal to the number of pairs of 2 and 5 in the prime factors. So, each 10 we count uses one 2 and one 5.\n",
      "\n",
      "Therefore, the number of trailing zeros is equal to the number of such pairs. Since 2s are more plentiful, the number of 2s will determine the number of zeros. But since I have already counted all the 5s, and each 10 requires a 5 and a 2, the number of zeros is equal to the number of 5s, which is 9.\n",
      "\n",
      "Wait, hold on, but is that correct? Let me check.\n",
      "\n",
      "I think I made a mistake here. Because the number of 10s is equal to the number of 5s, but since there are more 2s, the number of 10s is determined by the number of 5s. So, it's 9 zeros.\n",
      "\n",
      "But let me verify with a smaller example to make sure I'm not making a mistake.\n",
      "\n",
      "For example, take 10!. The number of 5s is 2 (from 5 and 10), so trailing zeros should be 2. Indeed, 10! is 3628800, which has two zeros at the end.\n",
      "\n",
      "Similarly, 25! has 6 zeros. Because floor(25/5) = 5, floor(25/25) = 1, so total of 6, which is correct, and 25! is 15511210043330985984000000, which indeed ends with six zeros.\n",
      "\n",
      "Similarly, 42! should have 9 zeros. Let me see, according to my calculation, that would be 8 + 1 = 9, which seems correct.\n",
      "\n",
      "But wait, let me try 25 again to make sure.\n",
      "\n",
      "In 25!, the number of 5s is 6: 5,10,15,20,25, which is 5 numbers. But 25 is one of them, so 1 more 5 for the 25, so total 6. 25! is 15511210043330985984000000, which does have 6 zeros, so it's correct.\n",
      "\n",
      "Therefore, applying the same logic, in 42! we should have 9 zeros.\n",
      "\n",
      "Wait, just to be thorough, let me try 50! which is higher. 50! should have 12 zeros. Let's see: floor(50/5)=10, floor(50/25)=2, so total 12 zeros. So, that's correct.\n",
      "\n",
      "Therefore, applying the same logic, 42! would have 9 zeros.\n",
      "\n",
      "Therefore, the number of trailing zeros in 42! is 9.\n",
      "\n",
      "But wait, another way to think about it is that the number of trailing zeros is equal to the exponent of 10 in the prime factorization of 42!, which is equal to the minimum of the exponents of 2 and 5 in its prime factorization. Since in 42!, the exponent of 2 is definitely higher than the exponent of 5, as we have more multiples of 2.\n",
      "\n",
      "But I think more precisely, since each 10 is a multiple of both 2 and 5, the number of trailing zeros is equal to the number of times 5 is a factor in 42!.\n",
      "\n",
      "Therefore, it is equal to the number of multiples of 5 in 42! plus the number of multiples of 25, which is 1. So, 8 +1=9. That seems correct.\n",
      "\n",
      "Wait, but earlier I thought that the number of 5s is equal to floor(42/5) + floor(42/25) + floor(42/125) +... So, that is 8 +1 +0=9. So, that's correct.\n",
      "\n",
      "So, the number of trailing zeros in 42! is 9.\n",
      "\n",
      "But let me just confirm by computing 42! modulo 10^9 or something to see how many zeros it ends with. Although 42! is a very large number, maybe I can just compute it step by step and check.\n",
      "\n",
      "But 42! is 42×41×40×...×1. Instead of computing the entire factorial, maybe I can compute how many times it's divisible by 10. Since 10=2×5, and since 42! has more 2s than 5s, the number of times 10 divides into 42! is determined by the number of 5s.\n",
      "\n",
      "Alternatively, maybe I can think in terms of Legendre's formula, which counts the exponent of a prime p in n! as sum_{k=1}^∞ floor(n / p^k).\n",
      "\n",
      "In our case, p=5, so exponent is floor(42/5) + floor(42/25) + floor(42/125)+... which is 8 +1 +0=9.\n",
      "\n",
      "Thus, the exponent of 5 is 9, so the exponent of 2 is more than 9, so the exponent of 10 is 9, so 42! ends with 9 zeros.\n",
      "\n",
      "Hence, the number of zeros at the end of 42! is 9.\n",
      "\n",
      "**Final Answer**\n",
      "The number of trailing zeros in 42! is \\boxed{9}.\n",
      "</think>\n",
      "\n",
      "To determine how many zeros are at the end of \\(42!\\), we need to count the number of times 10 is a factor in \\(42!\\). Since 10 is the product of 2 and 5, and there are usually more factors of 2 than 5 in a factorial, the number of trailing zeros is determined by the number of times 5 is a factor in the numbers from 1 to 42.\n",
      "\n",
      "We count the multiples of 5 and higher powers of 5 (like 25, 125, etc.) in the range from 1 to 42:\n",
      "\n",
      "1. The number of multiples of 5 in 42! is given by \\(\\left\\lfloor \\frac{42}{5} \\right\\rfloor\\):\n",
      "   \\[\n",
      "   \\left\\lfloor \\frac{42}{5} \\right\\rfloor = 8\n",
      "   \\]\n",
      "2. The number of multiples of 25 in 42! is given by \\(\\left\\lfloor \\frac{42}{25} \\right\\rfloor\\):\n",
      "   \\[\n",
      "   \\left\\lfloor \\frac{42}{25} \\right\\rfloor = 1\n",
      "   \\]\n",
      "\n",
      "Adding these together gives the total number of factors of 5:\n",
      "\\[\n",
      "8 + 1 = 9\n",
      "\\]\n",
      "\n",
      "Therefore, the number of trailing zeros in \\(42!\\) is \\(\\boxed{9}\\).\n",
      "9\n",
      "How many zeroes are at the end of $42!$ (42 factorial)?  (Reminder: The number $n!$ is the product of the integers from 1 to $n$.  For example, $5!=5\\cdot 4\\cdot3\\cdot2\\cdot 1= 120$.)\n"
     ]
    }
   ],
   "source": [
    "i = 4\n",
    "print(res[i]['response'])\n",
    "print(res[i]['answer'])\n",
    "print(res[i]['problem'])"
   ]
  },
  {
   "cell_type": "code",
   "execution_count": null,
   "metadata": {},
   "outputs": [],
   "source": []
  }
 ],
 "metadata": {
  "kernelspec": {
   "display_name": "verl",
   "language": "python",
   "name": "python3"
  },
  "language_info": {
   "codemirror_mode": {
    "name": "ipython",
    "version": 3
   },
   "file_extension": ".py",
   "mimetype": "text/x-python",
   "name": "python",
   "nbconvert_exporter": "python",
   "pygments_lexer": "ipython3",
   "version": "3.9.21"
  }
 },
 "nbformat": 4,
 "nbformat_minor": 2
}
